{
 "cells": [
  {
   "cell_type": "markdown",
   "metadata": {},
   "source": [
    "<div class=\"alert alert-block alert-success\">\n",
    "<center><b>AIM404 : Contextual Bandits with Amazon SageMaker RL - Inference Loop</b></center>\n",
    "</div>"
   ]
  },
  {
   "cell_type": "markdown",
   "metadata": {},
   "source": [
    "<a id='configuration'></a>\n",
    "## Configuration"
   ]
  },
  {
   "cell_type": "code",
   "execution_count": null,
   "metadata": {},
   "outputs": [],
   "source": [
    "import boto3, time, os, urllib.request, numpy, json\n",
    "import time\n",
    "from time import gmtime, strftime\n",
    "import re\n",
    "from sagemaker import get_execution_role\n",
    "from sagemaker.predictor import RealTimePredictor\n",
    "import sagemaker\n",
    "import numpy as np\n",
    "import sys"
   ]
  },
  {
   "cell_type": "markdown",
   "metadata": {},
   "source": [
    "<div class=\"alert alert-block alert-danger\"\">\n",
    "<b>IMPORTANT : </b>Setup the endpoint_name with the current sagemaker endpoint.\n",
    "</div>"
   ]
  },
  {
   "cell_type": "markdown",
   "metadata": {},
   "source": [
    "<div class=\"alert alert-block alert-info\">\n",
    "§ Open the <a href=\"https://us-east-1.console.aws.amazon.com/sagemaker/home?force&region=us-east-1#/endpoints\">Sagemaker Endpoints console</a> to retrieve endpoint name\n",
    "</div>"
   ]
  },
  {
   "cell_type": "markdown",
   "metadata": {},
   "source": [
    "Here we will use the [RealTimePredictor](https://sagemaker.readthedocs.io/en/stable/predictors.html) from Sagemaker Python SDK"
   ]
  },
  {
   "cell_type": "code",
   "execution_count": null,
   "metadata": {},
   "outputs": [],
   "source": [
    "endpoint_name = 'YOUR_SAGEMAKER_ENDPOINT'#Your sagemaker endpoint here\n",
    "sess = sagemaker.Session()\n",
    "realtime_predictor = RealTimePredictor(endpoint_name, \n",
    "                                       serializer=sagemaker.predictor.json_serializer,\n",
    "                                       deserializer=sagemaker.predictor.json_deserializer,\n",
    "                                       sagemaker_session=sess)"
   ]
  },
  {
   "cell_type": "markdown",
   "metadata": {},
   "source": [
    "## Generate Context for inference loop"
   ]
  },
  {
   "cell_type": "code",
   "execution_count": null,
   "metadata": {},
   "outputs": [],
   "source": [
    "file_name = 'sim_app/shuttle.trn'\n",
    "num_actions = 7\n",
    "data_size = 43483\n",
    "  \n",
    "def remove_underrepresented_classes(features, labels, thresh=0.0005):\n",
    "    \"\"\"Removes classes when number of datapoints fraction is below a threshold.\"\"\"\n",
    "    total_count = labels.shape[0]\n",
    "    unique, counts = np.unique(labels, return_counts=True)\n",
    "    ratios = counts.astype('float') / total_count\n",
    "    vals_and_ratios = dict(zip(unique, ratios))\n",
    "    print('Unique classes and their ratio of total: %s' % vals_and_ratios)\n",
    "    keep = [vals_and_ratios[v] >= thresh for v in labels]\n",
    "    return features[keep], labels[np.array(keep)]\n",
    "\n",
    "with open(file_name, 'r') as f:\n",
    "    data = np.loadtxt(f)\n",
    "\n",
    "    # Shuffle data\n",
    "    np.random.shuffle(data)\n",
    "\n",
    "    # Last column is label, rest are features\n",
    "    contexts = data[:, :-1]\n",
    "    labels = data[:, -1].astype(int) - 1  # convert to 0 based index\n",
    "    context, labels = remove_underrepresented_classes(contexts, labels)"
   ]
  },
  {
   "cell_type": "markdown",
   "metadata": {},
   "source": [
    "## Inference Loop\n",
    "\n",
    "Let's generate a loop over the sagemaker endpoint for inference"
   ]
  },
  {
   "cell_type": "code",
   "execution_count": null,
   "metadata": {},
   "outputs": [],
   "source": [
    "for i in range(data_size):\n",
    "    time.sleep(1)\n",
    "    payload = {}\n",
    "    payload['request_type'] = \"observation\"\n",
    "    payload['observation'] = context[i]\n",
    "    realtime_predictor.predict(payload)"
   ]
  },
  {
   "cell_type": "markdown",
   "metadata": {},
   "source": [
    "<div class=\"alert alert-block alert-danger\"\">\n",
    "Now go back to the previous notebook\n",
    "</div>"
   ]
  },
  {
   "cell_type": "code",
   "execution_count": null,
   "metadata": {},
   "outputs": [],
   "source": []
  }
 ],
 "metadata": {
  "kernelspec": {
   "display_name": "conda_python3",
   "language": "python",
   "name": "conda_python3"
  },
  "language_info": {
   "codemirror_mode": {
    "name": "ipython",
    "version": 3
   },
   "file_extension": ".py",
   "mimetype": "text/x-python",
   "name": "python",
   "nbconvert_exporter": "python",
   "pygments_lexer": "ipython3",
   "version": "3.6.5"
  }
 },
 "nbformat": 4,
 "nbformat_minor": 2
}
